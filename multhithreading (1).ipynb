{
  "cells": [
    {
      "cell_type": "code",
      "execution_count": 1,
      "id": "87a736d5",
      "metadata": {
        "id": "87a736d5"
      },
      "outputs": [],
      "source": [
        "import threading\n",
        "from tqdm.notebook import tqdm, trange\n",
        "import time    # to be used in loop iterations\n",
        "import os\n",
        "import itertools\n",
        "import time\n",
        "import random\n",
        "\n",
        "import numpy as np # linear algebra\n",
        "import pandas as pd # data processing, CSV file I/O (e.g. pd.read_csv)\n",
        "import matplotlib.pyplot as plt\n",
        "import matplotlib.colors as mcolors\n",
        "import seaborn as sns\n"
      ]
    },
    {
      "cell_type": "code",
      "execution_count": 2,
      "id": "a1c3008e",
      "metadata": {
        "id": "a1c3008e"
      },
      "outputs": [],
      "source": [
        "def create_empty_dataframe(df):\n",
        "    empty_df = pd.DataFrame(columns=[ np.float64(i) for i in range(len(df.columns))])\n",
        "    # Chnage the names of the coloums 187 to class and 188 to label to reflect the original mitbih dataframe\n",
        "    empty_df.rename(columns={187: 'class'}, inplace=True)\n",
        "    empty_df.rename(columns={188: 'label'}, inplace=True)\n",
        "\n",
        "    return empty_df\n",
        "def fill_empty_with_synthetic_data(original_df,new_df):\n",
        "    old_len = len(original_df)\n",
        "    to_fill = 100000  - len(original_df)\n",
        "    run_count = 0\n",
        "\n",
        "    pbar = tqdm(total = to_fill+1)\n",
        "    while(run_count < to_fill):\n",
        "        for i in tqdm(range(len(original_df)), desc='orignial dataset'):\n",
        "            new_list = original_df.iloc[i,:187]\n",
        "            run_count = len(new_df)\n",
        "            new_df.loc[run_count] = original_df.iloc[i].copy(deep=True)\n",
        "\n",
        "            for y in range(187):\n",
        "                if new_list[y] < 0.05 :\n",
        "                    new_df.iloc[run_count,y] = new_list[y]\n",
        "                else:\n",
        "                    new_df.iloc[run_count,y] = new_list[y] - 0.05\n",
        "\n",
        "            if( (run_count+len(original_df)) >= 100000):\n",
        "                break\n",
        "            #print(run_count)\n",
        "        pbar.update(len(original_df))\n",
        "    pbar.close()"
      ]
    },
    {
      "cell_type": "code",
      "execution_count": 5,
      "id": "5f69fa14",
      "metadata": {
        "colab": {
          "base_uri": "https://localhost:8080/",
          "height": 407
        },
        "id": "5f69fa14",
        "outputId": "381fafd5-5a88-4e74-8579-7dc27d8f6c46"
      },
      "outputs": [
        {
          "output_type": "error",
          "ename": "FileNotFoundError",
          "evalue": "[Errno 2] No such file or directory: 'C:\\\\Users\\\\ARAVIND\\\\Downloads\\\\cnn-lstm\\\\mitbih_train.csv'",
          "traceback": [
            "\u001b[0;31m---------------------------------------------------------------------------\u001b[0m",
            "\u001b[0;31mFileNotFoundError\u001b[0m                         Traceback (most recent call last)",
            "\u001b[0;32m<ipython-input-5-b4072a8d6498>\u001b[0m in \u001b[0;36m<cell line: 1>\u001b[0;34m()\u001b[0m\n\u001b[0;32m----> 1\u001b[0;31m \u001b[0mdf_mitbih_train\u001b[0m \u001b[0;34m=\u001b[0m \u001b[0mpd\u001b[0m\u001b[0;34m.\u001b[0m\u001b[0mread_csv\u001b[0m\u001b[0;34m(\u001b[0m\u001b[0;34mr\"C:\\Users\\ARAVIND\\Downloads\\cnn-lstm\\mitbih_train.csv\"\u001b[0m\u001b[0;34m,\u001b[0m \u001b[0mheader\u001b[0m\u001b[0;34m=\u001b[0m\u001b[0;32mNone\u001b[0m\u001b[0;34m)\u001b[0m\u001b[0;34m\u001b[0m\u001b[0;34m\u001b[0m\u001b[0m\n\u001b[0m\u001b[1;32m      2\u001b[0m \u001b[0mdf_mitbih_test\u001b[0m \u001b[0;34m=\u001b[0m \u001b[0mpd\u001b[0m\u001b[0;34m.\u001b[0m\u001b[0mread_csv\u001b[0m\u001b[0;34m(\u001b[0m\u001b[0;34mr\"C:\\Users\\ARAVIND\\Downloads\\cnn-lstm\\mitbih_with_syntetic_test.csv\"\u001b[0m\u001b[0;34m,\u001b[0m \u001b[0mheader\u001b[0m\u001b[0;34m=\u001b[0m\u001b[0;32mNone\u001b[0m\u001b[0;34m)\u001b[0m\u001b[0;34m\u001b[0m\u001b[0;34m\u001b[0m\u001b[0m\n\u001b[1;32m      3\u001b[0m \u001b[0mdf_mitbih\u001b[0m \u001b[0;34m=\u001b[0m \u001b[0mpd\u001b[0m\u001b[0;34m.\u001b[0m\u001b[0mconcat\u001b[0m\u001b[0;34m(\u001b[0m\u001b[0;34m[\u001b[0m\u001b[0mdf_mitbih_train\u001b[0m\u001b[0;34m,\u001b[0m \u001b[0mdf_mitbih_test\u001b[0m\u001b[0;34m]\u001b[0m\u001b[0;34m,\u001b[0m \u001b[0maxis\u001b[0m\u001b[0;34m=\u001b[0m\u001b[0;36m0\u001b[0m\u001b[0;34m)\u001b[0m\u001b[0;34m\u001b[0m\u001b[0;34m\u001b[0m\u001b[0m\n\u001b[1;32m      4\u001b[0m \u001b[0mdf_mitbih\u001b[0m\u001b[0;34m.\u001b[0m\u001b[0mrename\u001b[0m\u001b[0;34m(\u001b[0m\u001b[0mcolumns\u001b[0m\u001b[0;34m=\u001b[0m\u001b[0;34m{\u001b[0m\u001b[0;36m187\u001b[0m\u001b[0;34m:\u001b[0m \u001b[0;34m'class'\u001b[0m\u001b[0;34m}\u001b[0m\u001b[0;34m,\u001b[0m \u001b[0minplace\u001b[0m\u001b[0;34m=\u001b[0m\u001b[0;32mTrue\u001b[0m\u001b[0;34m)\u001b[0m\u001b[0;34m\u001b[0m\u001b[0;34m\u001b[0m\u001b[0m\n\u001b[1;32m      5\u001b[0m \u001b[0;34m\u001b[0m\u001b[0m\n",
            "\u001b[0;32m/usr/local/lib/python3.10/dist-packages/pandas/util/_decorators.py\u001b[0m in \u001b[0;36mwrapper\u001b[0;34m(*args, **kwargs)\u001b[0m\n\u001b[1;32m    209\u001b[0m                 \u001b[0;32melse\u001b[0m\u001b[0;34m:\u001b[0m\u001b[0;34m\u001b[0m\u001b[0;34m\u001b[0m\u001b[0m\n\u001b[1;32m    210\u001b[0m                     \u001b[0mkwargs\u001b[0m\u001b[0;34m[\u001b[0m\u001b[0mnew_arg_name\u001b[0m\u001b[0;34m]\u001b[0m \u001b[0;34m=\u001b[0m \u001b[0mnew_arg_value\u001b[0m\u001b[0;34m\u001b[0m\u001b[0;34m\u001b[0m\u001b[0m\n\u001b[0;32m--> 211\u001b[0;31m             \u001b[0;32mreturn\u001b[0m \u001b[0mfunc\u001b[0m\u001b[0;34m(\u001b[0m\u001b[0;34m*\u001b[0m\u001b[0margs\u001b[0m\u001b[0;34m,\u001b[0m \u001b[0;34m**\u001b[0m\u001b[0mkwargs\u001b[0m\u001b[0;34m)\u001b[0m\u001b[0;34m\u001b[0m\u001b[0;34m\u001b[0m\u001b[0m\n\u001b[0m\u001b[1;32m    212\u001b[0m \u001b[0;34m\u001b[0m\u001b[0m\n\u001b[1;32m    213\u001b[0m         \u001b[0;32mreturn\u001b[0m \u001b[0mcast\u001b[0m\u001b[0;34m(\u001b[0m\u001b[0mF\u001b[0m\u001b[0;34m,\u001b[0m \u001b[0mwrapper\u001b[0m\u001b[0;34m)\u001b[0m\u001b[0;34m\u001b[0m\u001b[0;34m\u001b[0m\u001b[0m\n",
            "\u001b[0;32m/usr/local/lib/python3.10/dist-packages/pandas/util/_decorators.py\u001b[0m in \u001b[0;36mwrapper\u001b[0;34m(*args, **kwargs)\u001b[0m\n\u001b[1;32m    329\u001b[0m                     \u001b[0mstacklevel\u001b[0m\u001b[0;34m=\u001b[0m\u001b[0mfind_stack_level\u001b[0m\u001b[0;34m(\u001b[0m\u001b[0;34m)\u001b[0m\u001b[0;34m,\u001b[0m\u001b[0;34m\u001b[0m\u001b[0;34m\u001b[0m\u001b[0m\n\u001b[1;32m    330\u001b[0m                 )\n\u001b[0;32m--> 331\u001b[0;31m             \u001b[0;32mreturn\u001b[0m \u001b[0mfunc\u001b[0m\u001b[0;34m(\u001b[0m\u001b[0;34m*\u001b[0m\u001b[0margs\u001b[0m\u001b[0;34m,\u001b[0m \u001b[0;34m**\u001b[0m\u001b[0mkwargs\u001b[0m\u001b[0;34m)\u001b[0m\u001b[0;34m\u001b[0m\u001b[0;34m\u001b[0m\u001b[0m\n\u001b[0m\u001b[1;32m    332\u001b[0m \u001b[0;34m\u001b[0m\u001b[0m\n\u001b[1;32m    333\u001b[0m         \u001b[0;31m# error: \"Callable[[VarArg(Any), KwArg(Any)], Any]\" has no\u001b[0m\u001b[0;34m\u001b[0m\u001b[0;34m\u001b[0m\u001b[0m\n",
            "\u001b[0;32m/usr/local/lib/python3.10/dist-packages/pandas/io/parsers/readers.py\u001b[0m in \u001b[0;36mread_csv\u001b[0;34m(filepath_or_buffer, sep, delimiter, header, names, index_col, usecols, squeeze, prefix, mangle_dupe_cols, dtype, engine, converters, true_values, false_values, skipinitialspace, skiprows, skipfooter, nrows, na_values, keep_default_na, na_filter, verbose, skip_blank_lines, parse_dates, infer_datetime_format, keep_date_col, date_parser, dayfirst, cache_dates, iterator, chunksize, compression, thousands, decimal, lineterminator, quotechar, quoting, doublequote, escapechar, comment, encoding, encoding_errors, dialect, error_bad_lines, warn_bad_lines, on_bad_lines, delim_whitespace, low_memory, memory_map, float_precision, storage_options)\u001b[0m\n\u001b[1;32m    948\u001b[0m     \u001b[0mkwds\u001b[0m\u001b[0;34m.\u001b[0m\u001b[0mupdate\u001b[0m\u001b[0;34m(\u001b[0m\u001b[0mkwds_defaults\u001b[0m\u001b[0;34m)\u001b[0m\u001b[0;34m\u001b[0m\u001b[0;34m\u001b[0m\u001b[0m\n\u001b[1;32m    949\u001b[0m \u001b[0;34m\u001b[0m\u001b[0m\n\u001b[0;32m--> 950\u001b[0;31m     \u001b[0;32mreturn\u001b[0m \u001b[0m_read\u001b[0m\u001b[0;34m(\u001b[0m\u001b[0mfilepath_or_buffer\u001b[0m\u001b[0;34m,\u001b[0m \u001b[0mkwds\u001b[0m\u001b[0;34m)\u001b[0m\u001b[0;34m\u001b[0m\u001b[0;34m\u001b[0m\u001b[0m\n\u001b[0m\u001b[1;32m    951\u001b[0m \u001b[0;34m\u001b[0m\u001b[0m\n\u001b[1;32m    952\u001b[0m \u001b[0;34m\u001b[0m\u001b[0m\n",
            "\u001b[0;32m/usr/local/lib/python3.10/dist-packages/pandas/io/parsers/readers.py\u001b[0m in \u001b[0;36m_read\u001b[0;34m(filepath_or_buffer, kwds)\u001b[0m\n\u001b[1;32m    603\u001b[0m \u001b[0;34m\u001b[0m\u001b[0m\n\u001b[1;32m    604\u001b[0m     \u001b[0;31m# Create the parser.\u001b[0m\u001b[0;34m\u001b[0m\u001b[0;34m\u001b[0m\u001b[0m\n\u001b[0;32m--> 605\u001b[0;31m     \u001b[0mparser\u001b[0m \u001b[0;34m=\u001b[0m \u001b[0mTextFileReader\u001b[0m\u001b[0;34m(\u001b[0m\u001b[0mfilepath_or_buffer\u001b[0m\u001b[0;34m,\u001b[0m \u001b[0;34m**\u001b[0m\u001b[0mkwds\u001b[0m\u001b[0;34m)\u001b[0m\u001b[0;34m\u001b[0m\u001b[0;34m\u001b[0m\u001b[0m\n\u001b[0m\u001b[1;32m    606\u001b[0m \u001b[0;34m\u001b[0m\u001b[0m\n\u001b[1;32m    607\u001b[0m     \u001b[0;32mif\u001b[0m \u001b[0mchunksize\u001b[0m \u001b[0;32mor\u001b[0m \u001b[0miterator\u001b[0m\u001b[0;34m:\u001b[0m\u001b[0;34m\u001b[0m\u001b[0;34m\u001b[0m\u001b[0m\n",
            "\u001b[0;32m/usr/local/lib/python3.10/dist-packages/pandas/io/parsers/readers.py\u001b[0m in \u001b[0;36m__init__\u001b[0;34m(self, f, engine, **kwds)\u001b[0m\n\u001b[1;32m   1440\u001b[0m \u001b[0;34m\u001b[0m\u001b[0m\n\u001b[1;32m   1441\u001b[0m         \u001b[0mself\u001b[0m\u001b[0;34m.\u001b[0m\u001b[0mhandles\u001b[0m\u001b[0;34m:\u001b[0m \u001b[0mIOHandles\u001b[0m \u001b[0;34m|\u001b[0m \u001b[0;32mNone\u001b[0m \u001b[0;34m=\u001b[0m \u001b[0;32mNone\u001b[0m\u001b[0;34m\u001b[0m\u001b[0;34m\u001b[0m\u001b[0m\n\u001b[0;32m-> 1442\u001b[0;31m         \u001b[0mself\u001b[0m\u001b[0;34m.\u001b[0m\u001b[0m_engine\u001b[0m \u001b[0;34m=\u001b[0m \u001b[0mself\u001b[0m\u001b[0;34m.\u001b[0m\u001b[0m_make_engine\u001b[0m\u001b[0;34m(\u001b[0m\u001b[0mf\u001b[0m\u001b[0;34m,\u001b[0m \u001b[0mself\u001b[0m\u001b[0;34m.\u001b[0m\u001b[0mengine\u001b[0m\u001b[0;34m)\u001b[0m\u001b[0;34m\u001b[0m\u001b[0;34m\u001b[0m\u001b[0m\n\u001b[0m\u001b[1;32m   1443\u001b[0m \u001b[0;34m\u001b[0m\u001b[0m\n\u001b[1;32m   1444\u001b[0m     \u001b[0;32mdef\u001b[0m \u001b[0mclose\u001b[0m\u001b[0;34m(\u001b[0m\u001b[0mself\u001b[0m\u001b[0;34m)\u001b[0m \u001b[0;34m->\u001b[0m \u001b[0;32mNone\u001b[0m\u001b[0;34m:\u001b[0m\u001b[0;34m\u001b[0m\u001b[0;34m\u001b[0m\u001b[0m\n",
            "\u001b[0;32m/usr/local/lib/python3.10/dist-packages/pandas/io/parsers/readers.py\u001b[0m in \u001b[0;36m_make_engine\u001b[0;34m(self, f, engine)\u001b[0m\n\u001b[1;32m   1733\u001b[0m                 \u001b[0;32mif\u001b[0m \u001b[0;34m\"b\"\u001b[0m \u001b[0;32mnot\u001b[0m \u001b[0;32min\u001b[0m \u001b[0mmode\u001b[0m\u001b[0;34m:\u001b[0m\u001b[0;34m\u001b[0m\u001b[0;34m\u001b[0m\u001b[0m\n\u001b[1;32m   1734\u001b[0m                     \u001b[0mmode\u001b[0m \u001b[0;34m+=\u001b[0m \u001b[0;34m\"b\"\u001b[0m\u001b[0;34m\u001b[0m\u001b[0;34m\u001b[0m\u001b[0m\n\u001b[0;32m-> 1735\u001b[0;31m             self.handles = get_handle(\n\u001b[0m\u001b[1;32m   1736\u001b[0m                 \u001b[0mf\u001b[0m\u001b[0;34m,\u001b[0m\u001b[0;34m\u001b[0m\u001b[0;34m\u001b[0m\u001b[0m\n\u001b[1;32m   1737\u001b[0m                 \u001b[0mmode\u001b[0m\u001b[0;34m,\u001b[0m\u001b[0;34m\u001b[0m\u001b[0;34m\u001b[0m\u001b[0m\n",
            "\u001b[0;32m/usr/local/lib/python3.10/dist-packages/pandas/io/common.py\u001b[0m in \u001b[0;36mget_handle\u001b[0;34m(path_or_buf, mode, encoding, compression, memory_map, is_text, errors, storage_options)\u001b[0m\n\u001b[1;32m    854\u001b[0m         \u001b[0;32mif\u001b[0m \u001b[0mioargs\u001b[0m\u001b[0;34m.\u001b[0m\u001b[0mencoding\u001b[0m \u001b[0;32mand\u001b[0m \u001b[0;34m\"b\"\u001b[0m \u001b[0;32mnot\u001b[0m \u001b[0;32min\u001b[0m \u001b[0mioargs\u001b[0m\u001b[0;34m.\u001b[0m\u001b[0mmode\u001b[0m\u001b[0;34m:\u001b[0m\u001b[0;34m\u001b[0m\u001b[0;34m\u001b[0m\u001b[0m\n\u001b[1;32m    855\u001b[0m             \u001b[0;31m# Encoding\u001b[0m\u001b[0;34m\u001b[0m\u001b[0;34m\u001b[0m\u001b[0m\n\u001b[0;32m--> 856\u001b[0;31m             handle = open(\n\u001b[0m\u001b[1;32m    857\u001b[0m                 \u001b[0mhandle\u001b[0m\u001b[0;34m,\u001b[0m\u001b[0;34m\u001b[0m\u001b[0;34m\u001b[0m\u001b[0m\n\u001b[1;32m    858\u001b[0m                 \u001b[0mioargs\u001b[0m\u001b[0;34m.\u001b[0m\u001b[0mmode\u001b[0m\u001b[0;34m,\u001b[0m\u001b[0;34m\u001b[0m\u001b[0;34m\u001b[0m\u001b[0m\n",
            "\u001b[0;31mFileNotFoundError\u001b[0m: [Errno 2] No such file or directory: 'C:\\\\Users\\\\ARAVIND\\\\Downloads\\\\cnn-lstm\\\\mitbih_train.csv'"
          ]
        }
      ],
      "source": [
        "df_mitbih_train = pd.read_csv(r\"C:\\Users\\ARAVIND\\Downloads\\cnn-lstm\\mitbih_train.csv\", header=None)\n",
        "df_mitbih_test = pd.read_csv(r\"C:\\Users\\ARAVIND\\Downloads\\cnn-lstm\\mitbih_with_syntetic_test.csv\", header=None)\n",
        "df_mitbih = pd.concat([df_mitbih_train, df_mitbih_test], axis=0)\n",
        "df_mitbih.rename(columns={187: 'class'}, inplace=True)\n",
        "\n",
        "id_to_label = {\n",
        "    0: \"Normal\",\n",
        "    1: \"Artial Premature\",\n",
        "    2: \"Premature ventricular contraction\",\n",
        "    3: \"Fusion of ventricular and normal\",\n",
        "    4: \"Fusion of paced and normal\"\n",
        "}\n",
        "df_mitbih['label'] = df_mitbih.iloc[:, -1].map(id_to_label)\n",
        "print(df_mitbih.info())"
      ]
    },
    {
      "cell_type": "code",
      "execution_count": null,
      "id": "d2d1cf2f",
      "metadata": {
        "colab": {
          "referenced_widgets": [
            "d71494a1b6744e119313254f6565ef07",
            "d5f1a9e15bf24b1b9538826f15a6601d",
            "9b1eefeac9c74903b2a8482da010d203",
            "e9c0f5c4228a4c9082fd2082e7632b37",
            "399c0ab0f25a47f99a6fd0a1f9de05cf",
            "8b44bf39b90e486fadc706096f71f411",
            "55330ae6624c479ea71c179d5a665ea3",
            "8995ede8c9b04244978bcf9f422d3320",
            "d979b24ec2244730bf54de1b58061639",
            "2ee80e8f271c4b5a99cd209d485fb146",
            "50080af0f73d457bb22556c63bd40526",
            "875e7f6f118843dcaa85c3864ac5a299",
            "4143aba179f24858bb9ca0c3196e22be",
            "83370fc0c4cb4a6a96991660b3dcfa64",
            "e2b49e0d9062471e9cc9e8dbfb2eac5d",
            "bc9be468ceaa4268bb467561d1f6c145",
            "82bae3058f164d1fb7f4188f06cb5966",
            "b5e579e3ce314b73b88f190527f4771d",
            "5217ccd8763c4985b348f51550a03753",
            "3c61bfe180ad48dc950ac4188f5e48c3",
            "80dc1de175754f3fb2c298ed810d6c17",
            "dd6742601b314afa8cfd4d117ebcfdcb",
            "058532a8c8f74c8d9c3930fb96c25b65",
            "f993d597b3404b3db9b7f1d5136495e4",
            "bea1375dfb8942bdb48172291a3f5a93",
            "acbc9d1f05384ff9aa4f3d11cb13d1b7",
            "db3ea982c70644289b48621f37d116d0",
            "8695252451dc4459b6b94796bca2661f",
            "a7390d64d29143879c89103219857a54",
            "c8f2195b41b242c3b96b1757dcd2ab92",
            "4d23cdea417547cdab044de57732484f",
            "bd85dddd14b14746af4c9b3403985632",
            "d6c2f64df92c4735910b6a3dd81ff744",
            "63d068598fe44b248b3c73ca87f86cbd",
            "9a5fd0ada7ab49179f60176501b7a5cc",
            "8bfe6a19aa1646d9aaa0b9ba19e6740a",
            "ae9b4391482b48db9d754f881e061089",
            "0b4af5853fdf4b45a69eed3dbc28dcc2",
            "3c65a14f90074f0faa1cba4968af4e49",
            "4fb532eeab7044b7b488a3d53820b4a8",
            "a1b52b34f7d84e03ad2295c7a09b5c6c",
            "18f735252413488bb13619b4283d9ee8",
            "1e8c2b7dca1f437bb8dee09d0d4709ef",
            "1e814df61bc14f9ea43e206ad3f645fb",
            "51568efceb184b83818debfccb5ecc97",
            "e33f52518bdb48dcbe04ee9b0ff24256",
            "cac757f7eb1c43a9a4aa0fa39604913c",
            "d6fb3d1f2a0948b7a21a813c1a79437a",
            "7396bfcf83f54c52b34dc3d9c9f2760f",
            "eb9d9579b0964c8f9eb7d7d4960ec95f",
            "f58dba3a94b942daaa02659dfa716cec",
            "3764df94780f48669807100bafd0d81f",
            "4606098a5b764fc388a89ea6940c4168",
            "90a23ef618a14ea68dc312c3e87ce870",
            "b805e57520124e6e9694785e4e1bb77f",
            "11dba4955922469abf2df4e319057d9d",
            "75461b5498644b688a8b8f5838ab78fa",
            "77653056e6d3466d86ac192244a2dc95",
            "c6e89dd31ca44ee9852757c344ebd1e9",
            "12a0ed636030437fa1695541489a32a4",
            "926ebbdaa612423e963ea7b0b3d597de",
            "719a836636f4408084f981d133a3415a",
            "7bf09cd101264cd18a24f7d829585302",
            "464c3ed4e1ca42bdb6316f4e80ff72df",
            "34db42314b424903a42c071ecaf7d7d5",
            "501db6c8312a4ad4b722d1edebf0d863",
            "1bab099930424c90966907c66a3d2604",
            "51dd25fc50224d9fa8f1ca703eeb028e",
            "1eb92c44b3b24ac6b8fdf7407ddd33b9",
            "eed43b5c32004ef6a4f6f2ddd03222e9",
            "ebec4bf96b5943858037601a98164b64",
            "06d743b93bc342eb8c9f779fe076cc91",
            "e270a07cd77e47e3a810d034eb66f22b",
            "3fcde668039e4f9ab026a17fafa18a35",
            "48b3b13d1fee40bf970cf6e406a5713e",
            "f6dc4a35d9c04356b06060eb5b5c8daf",
            "09cdd492b0524795a8ac24a40640c39b",
            "9517b465201745b7bf7fa5f06ee6995a",
            "cde7964d020c4747bb655fb236e4444d",
            "f383443481024bdab4e1cca7fd424149",
            "94c22146ec634ad2bea203a23e41688b",
            "cf52643481d546498f6b7994639b6078",
            "c564d1b7d9144eb2b846f14015dc14e6",
            "321b7ff2b15a4086a9337fc4ed5b234e",
            "8ec0d2596bab4556bcede9eb132df41e",
            "ce7ce643c02a455cbcf32ac7a97075fc",
            "a98b364e21fd4d909ae4d4f3ffbb5996",
            "7819713873d64aa5989bd78686aac7e8",
            "dbf893e1480e4616bd6277eddc133bd7",
            "64189b7dcfbe46828a79fc92d8c094ca",
            "2cc6dc3a5121464a8da4abd5ab030a2c",
            "ce246615fa5548eb8820b3aef8f997cb",
            "b98a06f621cd4a00bdb4ed3bd958db46",
            "36ef9d5644dd41bda2b9e5233851da83",
            "642fc9e30bbf4f24b9666b936ed63b97",
            "a4d5aabc29c44d36aa4505de9058665a",
            "f9d91e04e0c94dbc8db796191840b155",
            "7bab80d33484446094ef38da1a444dba",
            "60b65bdb775d4c74932a73f5cd87d80a",
            "c16d28e260f544d08c8f0f9d3519dc96",
            "08873bb418774867a016d2e315152d56",
            "1012fbd1f7784c2592301ada8fdde2ba",
            "46521c18688443a89489073fb9ddcfb4",
            "002a1b424c6e4e3bb39d021c7397ae32",
            "62d2626b661f478bb221a6f7466345cb",
            "cd2cc27048364b4587ad727488be63a4",
            "cdd21a3850db4f42aef93fa6b862aa6a",
            "96da9ed42ab14937bdc87b3a34ef0228",
            "0926468030cf43059a1aa4398827dbf8",
            "580216c07b0c4309857f0b303fe063d7",
            "ded1b130f6884f0490fc2073c3268ff2",
            "e30daec8c6934e53ac6df58ee3bb6392",
            "b87a0904c61147b9b2edead8d48b7568",
            "912318cdc06942f995f4a4fb5ae63eb0",
            "2f3de04cdf0244c8bdc55edba2117fd4",
            "7c38e685de104cad9c02c24eafa7538c",
            "9a9b3a3987f8480fb5bbc420901c6a0b",
            "97363fd0f8744c8d88a5ce3725eb41e3",
            "56db1108f57d40fb9c3a904bcd2c81ce",
            "dbe3e8c8aefe46a986874fb733f3f888",
            "4350cb63fb464b8d9443f53d18edc010",
            "9523be482fb74ff080d96148581ae6a9",
            "55917399e8bd4b2590d1d5d2d3f2a824",
            "70f9e1b998e040bdb1f54ede83b8ae26",
            "a4da26718f954f579433e466c5ef683e",
            "4fa9a8d9582344ceac84bb93ba6553e7",
            "9ab68da488cf468996f17edf110961cc",
            "b13933c2899f45df876c64df2af46acf",
            "fcaac02e63854709b5186ba52db393f3",
            "4da819e7035e48b9a71180cba4daa0e1",
            "fd05ca437efa47529742f23b7874160e",
            "8c1202685eca44908fc66ab29a16bba5",
            "9e6589b4c48447b981fff1953d0def37",
            "6ccfcf9583134a48b7c2b3defb16e8ae",
            "4bf3763132e6498ab1ed268083cdb640",
            "ed507b51996747ceb600c7b5973e8856",
            "33faf45d35ac4d6c80dbae285ebdb842",
            "74251d67999e4124bf658dc7fb84b3e5"
          ]
        },
        "id": "d2d1cf2f",
        "outputId": "cc9655c0-354a-4f4c-bd6e-ebc0c9aa7782"
      },
      "outputs": [
        {
          "data": {
            "application/vnd.jupyter.widget-view+json": {
              "model_id": "d71494a1b6744e119313254f6565ef07",
              "version_major": 2,
              "version_minor": 0
            },
            "text/plain": [
              "  0%|          | 0/99198 [00:00<?, ?it/s]"
            ]
          },
          "metadata": {},
          "output_type": "display_data"
        },
        {
          "data": {
            "application/vnd.jupyter.widget-view+json": {
              "model_id": "d5f1a9e15bf24b1b9538826f15a6601d",
              "version_major": 2,
              "version_minor": 0
            },
            "text/plain": [
              "  0%|          | 0/91962 [00:00<?, ?it/s]"
            ]
          },
          "metadata": {},
          "output_type": "display_data"
        },
        {
          "data": {
            "application/vnd.jupyter.widget-view+json": {
              "model_id": "9b1eefeac9c74903b2a8482da010d203",
              "version_major": 2,
              "version_minor": 0
            },
            "text/plain": [
              "orignial dataset:   0%|          | 0/8039 [00:00<?, ?it/s]"
            ]
          },
          "metadata": {},
          "output_type": "display_data"
        },
        {
          "data": {
            "application/vnd.jupyter.widget-view+json": {
              "model_id": "e9c0f5c4228a4c9082fd2082e7632b37",
              "version_major": 2,
              "version_minor": 0
            },
            "text/plain": [
              "orignial dataset:   0%|          | 0/803 [00:00<?, ?it/s]"
            ]
          },
          "metadata": {},
          "output_type": "display_data"
        },
        {
          "data": {
            "application/vnd.jupyter.widget-view+json": {
              "model_id": "399c0ab0f25a47f99a6fd0a1f9de05cf",
              "version_major": 2,
              "version_minor": 0
            },
            "text/plain": [
              "orignial dataset:   0%|          | 0/803 [00:00<?, ?it/s]"
            ]
          },
          "metadata": {},
          "output_type": "display_data"
        },
        {
          "data": {
            "application/vnd.jupyter.widget-view+json": {
              "model_id": "8b44bf39b90e486fadc706096f71f411",
              "version_major": 2,
              "version_minor": 0
            },
            "text/plain": [
              "orignial dataset:   0%|          | 0/803 [00:00<?, ?it/s]"
            ]
          },
          "metadata": {},
          "output_type": "display_data"
        },
        {
          "data": {
            "application/vnd.jupyter.widget-view+json": {
              "model_id": "55330ae6624c479ea71c179d5a665ea3",
              "version_major": 2,
              "version_minor": 0
            },
            "text/plain": [
              "orignial dataset:   0%|          | 0/803 [00:00<?, ?it/s]"
            ]
          },
          "metadata": {},
          "output_type": "display_data"
        },
        {
          "data": {
            "application/vnd.jupyter.widget-view+json": {
              "model_id": "8995ede8c9b04244978bcf9f422d3320",
              "version_major": 2,
              "version_minor": 0
            },
            "text/plain": [
              "orignial dataset:   0%|          | 0/803 [00:00<?, ?it/s]"
            ]
          },
          "metadata": {},
          "output_type": "display_data"
        },
        {
          "data": {
            "application/vnd.jupyter.widget-view+json": {
              "model_id": "d979b24ec2244730bf54de1b58061639",
              "version_major": 2,
              "version_minor": 0
            },
            "text/plain": [
              "orignial dataset:   0%|          | 0/803 [00:00<?, ?it/s]"
            ]
          },
          "metadata": {},
          "output_type": "display_data"
        },
        {
          "data": {
            "application/vnd.jupyter.widget-view+json": {
              "model_id": "2ee80e8f271c4b5a99cd209d485fb146",
              "version_major": 2,
              "version_minor": 0
            },
            "text/plain": [
              "orignial dataset:   0%|          | 0/803 [00:00<?, ?it/s]"
            ]
          },
          "metadata": {},
          "output_type": "display_data"
        },
        {
          "data": {
            "application/vnd.jupyter.widget-view+json": {
              "model_id": "50080af0f73d457bb22556c63bd40526",
              "version_major": 2,
              "version_minor": 0
            },
            "text/plain": [
              "orignial dataset:   0%|          | 0/803 [00:00<?, ?it/s]"
            ]
          },
          "metadata": {},
          "output_type": "display_data"
        },
        {
          "data": {
            "application/vnd.jupyter.widget-view+json": {
              "model_id": "875e7f6f118843dcaa85c3864ac5a299",
              "version_major": 2,
              "version_minor": 0
            },
            "text/plain": [
              "orignial dataset:   0%|          | 0/803 [00:00<?, ?it/s]"
            ]
          },
          "metadata": {},
          "output_type": "display_data"
        },
        {
          "data": {
            "application/vnd.jupyter.widget-view+json": {
              "model_id": "4143aba179f24858bb9ca0c3196e22be",
              "version_major": 2,
              "version_minor": 0
            },
            "text/plain": [
              "orignial dataset:   0%|          | 0/803 [00:00<?, ?it/s]"
            ]
          },
          "metadata": {},
          "output_type": "display_data"
        },
        {
          "data": {
            "application/vnd.jupyter.widget-view+json": {
              "model_id": "83370fc0c4cb4a6a96991660b3dcfa64",
              "version_major": 2,
              "version_minor": 0
            },
            "text/plain": [
              "orignial dataset:   0%|          | 0/8039 [00:00<?, ?it/s]"
            ]
          },
          "metadata": {},
          "output_type": "display_data"
        },
        {
          "data": {
            "application/vnd.jupyter.widget-view+json": {
              "model_id": "e2b49e0d9062471e9cc9e8dbfb2eac5d",
              "version_major": 2,
              "version_minor": 0
            },
            "text/plain": [
              "orignial dataset:   0%|          | 0/803 [00:00<?, ?it/s]"
            ]
          },
          "metadata": {},
          "output_type": "display_data"
        },
        {
          "data": {
            "application/vnd.jupyter.widget-view+json": {
              "model_id": "bc9be468ceaa4268bb467561d1f6c145",
              "version_major": 2,
              "version_minor": 0
            },
            "text/plain": [
              "orignial dataset:   0%|          | 0/803 [00:00<?, ?it/s]"
            ]
          },
          "metadata": {},
          "output_type": "display_data"
        },
        {
          "data": {
            "application/vnd.jupyter.widget-view+json": {
              "model_id": "82bae3058f164d1fb7f4188f06cb5966",
              "version_major": 2,
              "version_minor": 0
            },
            "text/plain": [
              "orignial dataset:   0%|          | 0/803 [00:00<?, ?it/s]"
            ]
          },
          "metadata": {},
          "output_type": "display_data"
        },
        {
          "data": {
            "application/vnd.jupyter.widget-view+json": {
              "model_id": "b5e579e3ce314b73b88f190527f4771d",
              "version_major": 2,
              "version_minor": 0
            },
            "text/plain": [
              "orignial dataset:   0%|          | 0/803 [00:00<?, ?it/s]"
            ]
          },
          "metadata": {},
          "output_type": "display_data"
        },
        {
          "data": {
            "application/vnd.jupyter.widget-view+json": {
              "model_id": "5217ccd8763c4985b348f51550a03753",
              "version_major": 2,
              "version_minor": 0
            },
            "text/plain": [
              "orignial dataset:   0%|          | 0/803 [00:00<?, ?it/s]"
            ]
          },
          "metadata": {},
          "output_type": "display_data"
        },
        {
          "data": {
            "application/vnd.jupyter.widget-view+json": {
              "model_id": "3c61bfe180ad48dc950ac4188f5e48c3",
              "version_major": 2,
              "version_minor": 0
            },
            "text/plain": [
              "orignial dataset:   0%|          | 0/803 [00:00<?, ?it/s]"
            ]
          },
          "metadata": {},
          "output_type": "display_data"
        },
        {
          "data": {
            "application/vnd.jupyter.widget-view+json": {
              "model_id": "80dc1de175754f3fb2c298ed810d6c17",
              "version_major": 2,
              "version_minor": 0
            },
            "text/plain": [
              "orignial dataset:   0%|          | 0/803 [00:00<?, ?it/s]"
            ]
          },
          "metadata": {},
          "output_type": "display_data"
        },
        {
          "data": {
            "application/vnd.jupyter.widget-view+json": {
              "model_id": "dd6742601b314afa8cfd4d117ebcfdcb",
              "version_major": 2,
              "version_minor": 0
            },
            "text/plain": [
              "orignial dataset:   0%|          | 0/803 [00:00<?, ?it/s]"
            ]
          },
          "metadata": {},
          "output_type": "display_data"
        },
        {
          "data": {
            "application/vnd.jupyter.widget-view+json": {
              "model_id": "058532a8c8f74c8d9c3930fb96c25b65",
              "version_major": 2,
              "version_minor": 0
            },
            "text/plain": [
              "orignial dataset:   0%|          | 0/803 [00:00<?, ?it/s]"
            ]
          },
          "metadata": {},
          "output_type": "display_data"
        },
        {
          "data": {
            "application/vnd.jupyter.widget-view+json": {
              "model_id": "f993d597b3404b3db9b7f1d5136495e4",
              "version_major": 2,
              "version_minor": 0
            },
            "text/plain": [
              "orignial dataset:   0%|          | 0/803 [00:00<?, ?it/s]"
            ]
          },
          "metadata": {},
          "output_type": "display_data"
        },
        {
          "data": {
            "application/vnd.jupyter.widget-view+json": {
              "model_id": "bea1375dfb8942bdb48172291a3f5a93",
              "version_major": 2,
              "version_minor": 0
            },
            "text/plain": [
              "orignial dataset:   0%|          | 0/8039 [00:00<?, ?it/s]"
            ]
          },
          "metadata": {},
          "output_type": "display_data"
        },
        {
          "data": {
            "application/vnd.jupyter.widget-view+json": {
              "model_id": "acbc9d1f05384ff9aa4f3d11cb13d1b7",
              "version_major": 2,
              "version_minor": 0
            },
            "text/plain": [
              "orignial dataset:   0%|          | 0/803 [00:00<?, ?it/s]"
            ]
          },
          "metadata": {},
          "output_type": "display_data"
        },
        {
          "data": {
            "application/vnd.jupyter.widget-view+json": {
              "model_id": "db3ea982c70644289b48621f37d116d0",
              "version_major": 2,
              "version_minor": 0
            },
            "text/plain": [
              "orignial dataset:   0%|          | 0/803 [00:00<?, ?it/s]"
            ]
          },
          "metadata": {},
          "output_type": "display_data"
        },
        {
          "data": {
            "application/vnd.jupyter.widget-view+json": {
              "model_id": "8695252451dc4459b6b94796bca2661f",
              "version_major": 2,
              "version_minor": 0
            },
            "text/plain": [
              "orignial dataset:   0%|          | 0/803 [00:00<?, ?it/s]"
            ]
          },
          "metadata": {},
          "output_type": "display_data"
        },
        {
          "data": {
            "application/vnd.jupyter.widget-view+json": {
              "model_id": "a7390d64d29143879c89103219857a54",
              "version_major": 2,
              "version_minor": 0
            },
            "text/plain": [
              "orignial dataset:   0%|          | 0/803 [00:00<?, ?it/s]"
            ]
          },
          "metadata": {},
          "output_type": "display_data"
        },
        {
          "data": {
            "application/vnd.jupyter.widget-view+json": {
              "model_id": "c8f2195b41b242c3b96b1757dcd2ab92",
              "version_major": 2,
              "version_minor": 0
            },
            "text/plain": [
              "orignial dataset:   0%|          | 0/803 [00:00<?, ?it/s]"
            ]
          },
          "metadata": {},
          "output_type": "display_data"
        },
        {
          "data": {
            "application/vnd.jupyter.widget-view+json": {
              "model_id": "4d23cdea417547cdab044de57732484f",
              "version_major": 2,
              "version_minor": 0
            },
            "text/plain": [
              "orignial dataset:   0%|          | 0/803 [00:00<?, ?it/s]"
            ]
          },
          "metadata": {},
          "output_type": "display_data"
        },
        {
          "data": {
            "application/vnd.jupyter.widget-view+json": {
              "model_id": "bd85dddd14b14746af4c9b3403985632",
              "version_major": 2,
              "version_minor": 0
            },
            "text/plain": [
              "orignial dataset:   0%|          | 0/803 [00:00<?, ?it/s]"
            ]
          },
          "metadata": {},
          "output_type": "display_data"
        },
        {
          "data": {
            "application/vnd.jupyter.widget-view+json": {
              "model_id": "d6c2f64df92c4735910b6a3dd81ff744",
              "version_major": 2,
              "version_minor": 0
            },
            "text/plain": [
              "orignial dataset:   0%|          | 0/803 [00:00<?, ?it/s]"
            ]
          },
          "metadata": {},
          "output_type": "display_data"
        },
        {
          "data": {
            "application/vnd.jupyter.widget-view+json": {
              "model_id": "63d068598fe44b248b3c73ca87f86cbd",
              "version_major": 2,
              "version_minor": 0
            },
            "text/plain": [
              "orignial dataset:   0%|          | 0/803 [00:00<?, ?it/s]"
            ]
          },
          "metadata": {},
          "output_type": "display_data"
        },
        {
          "data": {
            "application/vnd.jupyter.widget-view+json": {
              "model_id": "9a5fd0ada7ab49179f60176501b7a5cc",
              "version_major": 2,
              "version_minor": 0
            },
            "text/plain": [
              "orignial dataset:   0%|          | 0/803 [00:00<?, ?it/s]"
            ]
          },
          "metadata": {},
          "output_type": "display_data"
        },
        {
          "data": {
            "application/vnd.jupyter.widget-view+json": {
              "model_id": "8bfe6a19aa1646d9aaa0b9ba19e6740a",
              "version_major": 2,
              "version_minor": 0
            },
            "text/plain": [
              "orignial dataset:   0%|          | 0/8039 [00:00<?, ?it/s]"
            ]
          },
          "metadata": {},
          "output_type": "display_data"
        },
        {
          "data": {
            "application/vnd.jupyter.widget-view+json": {
              "model_id": "ae9b4391482b48db9d754f881e061089",
              "version_major": 2,
              "version_minor": 0
            },
            "text/plain": [
              "orignial dataset:   0%|          | 0/803 [00:00<?, ?it/s]"
            ]
          },
          "metadata": {},
          "output_type": "display_data"
        },
        {
          "data": {
            "application/vnd.jupyter.widget-view+json": {
              "model_id": "0b4af5853fdf4b45a69eed3dbc28dcc2",
              "version_major": 2,
              "version_minor": 0
            },
            "text/plain": [
              "orignial dataset:   0%|          | 0/803 [00:00<?, ?it/s]"
            ]
          },
          "metadata": {},
          "output_type": "display_data"
        },
        {
          "data": {
            "application/vnd.jupyter.widget-view+json": {
              "model_id": "3c65a14f90074f0faa1cba4968af4e49",
              "version_major": 2,
              "version_minor": 0
            },
            "text/plain": [
              "orignial dataset:   0%|          | 0/803 [00:00<?, ?it/s]"
            ]
          },
          "metadata": {},
          "output_type": "display_data"
        },
        {
          "data": {
            "application/vnd.jupyter.widget-view+json": {
              "model_id": "4fb532eeab7044b7b488a3d53820b4a8",
              "version_major": 2,
              "version_minor": 0
            },
            "text/plain": [
              "orignial dataset:   0%|          | 0/803 [00:00<?, ?it/s]"
            ]
          },
          "metadata": {},
          "output_type": "display_data"
        },
        {
          "data": {
            "application/vnd.jupyter.widget-view+json": {
              "model_id": "a1b52b34f7d84e03ad2295c7a09b5c6c",
              "version_major": 2,
              "version_minor": 0
            },
            "text/plain": [
              "orignial dataset:   0%|          | 0/803 [00:00<?, ?it/s]"
            ]
          },
          "metadata": {},
          "output_type": "display_data"
        },
        {
          "data": {
            "application/vnd.jupyter.widget-view+json": {
              "model_id": "18f735252413488bb13619b4283d9ee8",
              "version_major": 2,
              "version_minor": 0
            },
            "text/plain": [
              "orignial dataset:   0%|          | 0/803 [00:00<?, ?it/s]"
            ]
          },
          "metadata": {},
          "output_type": "display_data"
        },
        {
          "data": {
            "application/vnd.jupyter.widget-view+json": {
              "model_id": "1e8c2b7dca1f437bb8dee09d0d4709ef",
              "version_major": 2,
              "version_minor": 0
            },
            "text/plain": [
              "orignial dataset:   0%|          | 0/803 [00:00<?, ?it/s]"
            ]
          },
          "metadata": {},
          "output_type": "display_data"
        },
        {
          "data": {
            "application/vnd.jupyter.widget-view+json": {
              "model_id": "1e814df61bc14f9ea43e206ad3f645fb",
              "version_major": 2,
              "version_minor": 0
            },
            "text/plain": [
              "orignial dataset:   0%|          | 0/803 [00:00<?, ?it/s]"
            ]
          },
          "metadata": {},
          "output_type": "display_data"
        },
        {
          "data": {
            "application/vnd.jupyter.widget-view+json": {
              "model_id": "51568efceb184b83818debfccb5ecc97",
              "version_major": 2,
              "version_minor": 0
            },
            "text/plain": [
              "orignial dataset:   0%|          | 0/803 [00:00<?, ?it/s]"
            ]
          },
          "metadata": {},
          "output_type": "display_data"
        },
        {
          "data": {
            "application/vnd.jupyter.widget-view+json": {
              "model_id": "e33f52518bdb48dcbe04ee9b0ff24256",
              "version_major": 2,
              "version_minor": 0
            },
            "text/plain": [
              "orignial dataset:   0%|          | 0/803 [00:00<?, ?it/s]"
            ]
          },
          "metadata": {},
          "output_type": "display_data"
        },
        {
          "data": {
            "application/vnd.jupyter.widget-view+json": {
              "model_id": "cac757f7eb1c43a9a4aa0fa39604913c",
              "version_major": 2,
              "version_minor": 0
            },
            "text/plain": [
              "orignial dataset:   0%|          | 0/8039 [00:00<?, ?it/s]"
            ]
          },
          "metadata": {},
          "output_type": "display_data"
        },
        {
          "data": {
            "application/vnd.jupyter.widget-view+json": {
              "model_id": "d6fb3d1f2a0948b7a21a813c1a79437a",
              "version_major": 2,
              "version_minor": 0
            },
            "text/plain": [
              "orignial dataset:   0%|          | 0/803 [00:00<?, ?it/s]"
            ]
          },
          "metadata": {},
          "output_type": "display_data"
        },
        {
          "data": {
            "application/vnd.jupyter.widget-view+json": {
              "model_id": "7396bfcf83f54c52b34dc3d9c9f2760f",
              "version_major": 2,
              "version_minor": 0
            },
            "text/plain": [
              "orignial dataset:   0%|          | 0/803 [00:00<?, ?it/s]"
            ]
          },
          "metadata": {},
          "output_type": "display_data"
        },
        {
          "data": {
            "application/vnd.jupyter.widget-view+json": {
              "model_id": "eb9d9579b0964c8f9eb7d7d4960ec95f",
              "version_major": 2,
              "version_minor": 0
            },
            "text/plain": [
              "orignial dataset:   0%|          | 0/803 [00:00<?, ?it/s]"
            ]
          },
          "metadata": {},
          "output_type": "display_data"
        },
        {
          "data": {
            "application/vnd.jupyter.widget-view+json": {
              "model_id": "f58dba3a94b942daaa02659dfa716cec",
              "version_major": 2,
              "version_minor": 0
            },
            "text/plain": [
              "orignial dataset:   0%|          | 0/803 [00:00<?, ?it/s]"
            ]
          },
          "metadata": {},
          "output_type": "display_data"
        },
        {
          "data": {
            "application/vnd.jupyter.widget-view+json": {
              "model_id": "3764df94780f48669807100bafd0d81f",
              "version_major": 2,
              "version_minor": 0
            },
            "text/plain": [
              "orignial dataset:   0%|          | 0/803 [00:00<?, ?it/s]"
            ]
          },
          "metadata": {},
          "output_type": "display_data"
        },
        {
          "data": {
            "application/vnd.jupyter.widget-view+json": {
              "model_id": "4606098a5b764fc388a89ea6940c4168",
              "version_major": 2,
              "version_minor": 0
            },
            "text/plain": [
              "orignial dataset:   0%|          | 0/803 [00:00<?, ?it/s]"
            ]
          },
          "metadata": {},
          "output_type": "display_data"
        },
        {
          "data": {
            "application/vnd.jupyter.widget-view+json": {
              "model_id": "90a23ef618a14ea68dc312c3e87ce870",
              "version_major": 2,
              "version_minor": 0
            },
            "text/plain": [
              "orignial dataset:   0%|          | 0/803 [00:00<?, ?it/s]"
            ]
          },
          "metadata": {},
          "output_type": "display_data"
        },
        {
          "data": {
            "application/vnd.jupyter.widget-view+json": {
              "model_id": "b805e57520124e6e9694785e4e1bb77f",
              "version_major": 2,
              "version_minor": 0
            },
            "text/plain": [
              "orignial dataset:   0%|          | 0/803 [00:00<?, ?it/s]"
            ]
          },
          "metadata": {},
          "output_type": "display_data"
        },
        {
          "data": {
            "application/vnd.jupyter.widget-view+json": {
              "model_id": "11dba4955922469abf2df4e319057d9d",
              "version_major": 2,
              "version_minor": 0
            },
            "text/plain": [
              "orignial dataset:   0%|          | 0/803 [00:00<?, ?it/s]"
            ]
          },
          "metadata": {},
          "output_type": "display_data"
        },
        {
          "data": {
            "application/vnd.jupyter.widget-view+json": {
              "model_id": "75461b5498644b688a8b8f5838ab78fa",
              "version_major": 2,
              "version_minor": 0
            },
            "text/plain": [
              "orignial dataset:   0%|          | 0/803 [00:00<?, ?it/s]"
            ]
          },
          "metadata": {},
          "output_type": "display_data"
        },
        {
          "data": {
            "application/vnd.jupyter.widget-view+json": {
              "model_id": "77653056e6d3466d86ac192244a2dc95",
              "version_major": 2,
              "version_minor": 0
            },
            "text/plain": [
              "orignial dataset:   0%|          | 0/803 [00:00<?, ?it/s]"
            ]
          },
          "metadata": {},
          "output_type": "display_data"
        },
        {
          "data": {
            "application/vnd.jupyter.widget-view+json": {
              "model_id": "c6e89dd31ca44ee9852757c344ebd1e9",
              "version_major": 2,
              "version_minor": 0
            },
            "text/plain": [
              "orignial dataset:   0%|          | 0/8039 [00:00<?, ?it/s]"
            ]
          },
          "metadata": {},
          "output_type": "display_data"
        },
        {
          "data": {
            "application/vnd.jupyter.widget-view+json": {
              "model_id": "12a0ed636030437fa1695541489a32a4",
              "version_major": 2,
              "version_minor": 0
            },
            "text/plain": [
              "orignial dataset:   0%|          | 0/803 [00:00<?, ?it/s]"
            ]
          },
          "metadata": {},
          "output_type": "display_data"
        },
        {
          "data": {
            "application/vnd.jupyter.widget-view+json": {
              "model_id": "926ebbdaa612423e963ea7b0b3d597de",
              "version_major": 2,
              "version_minor": 0
            },
            "text/plain": [
              "orignial dataset:   0%|          | 0/803 [00:00<?, ?it/s]"
            ]
          },
          "metadata": {},
          "output_type": "display_data"
        },
        {
          "data": {
            "application/vnd.jupyter.widget-view+json": {
              "model_id": "719a836636f4408084f981d133a3415a",
              "version_major": 2,
              "version_minor": 0
            },
            "text/plain": [
              "orignial dataset:   0%|          | 0/803 [00:00<?, ?it/s]"
            ]
          },
          "metadata": {},
          "output_type": "display_data"
        },
        {
          "data": {
            "application/vnd.jupyter.widget-view+json": {
              "model_id": "7bf09cd101264cd18a24f7d829585302",
              "version_major": 2,
              "version_minor": 0
            },
            "text/plain": [
              "orignial dataset:   0%|          | 0/803 [00:00<?, ?it/s]"
            ]
          },
          "metadata": {},
          "output_type": "display_data"
        },
        {
          "data": {
            "application/vnd.jupyter.widget-view+json": {
              "model_id": "464c3ed4e1ca42bdb6316f4e80ff72df",
              "version_major": 2,
              "version_minor": 0
            },
            "text/plain": [
              "orignial dataset:   0%|          | 0/803 [00:00<?, ?it/s]"
            ]
          },
          "metadata": {},
          "output_type": "display_data"
        },
        {
          "data": {
            "application/vnd.jupyter.widget-view+json": {
              "model_id": "34db42314b424903a42c071ecaf7d7d5",
              "version_major": 2,
              "version_minor": 0
            },
            "text/plain": [
              "orignial dataset:   0%|          | 0/803 [00:00<?, ?it/s]"
            ]
          },
          "metadata": {},
          "output_type": "display_data"
        },
        {
          "data": {
            "application/vnd.jupyter.widget-view+json": {
              "model_id": "501db6c8312a4ad4b722d1edebf0d863",
              "version_major": 2,
              "version_minor": 0
            },
            "text/plain": [
              "orignial dataset:   0%|          | 0/803 [00:00<?, ?it/s]"
            ]
          },
          "metadata": {},
          "output_type": "display_data"
        },
        {
          "data": {
            "application/vnd.jupyter.widget-view+json": {
              "model_id": "1bab099930424c90966907c66a3d2604",
              "version_major": 2,
              "version_minor": 0
            },
            "text/plain": [
              "orignial dataset:   0%|          | 0/803 [00:00<?, ?it/s]"
            ]
          },
          "metadata": {},
          "output_type": "display_data"
        },
        {
          "data": {
            "application/vnd.jupyter.widget-view+json": {
              "model_id": "51dd25fc50224d9fa8f1ca703eeb028e",
              "version_major": 2,
              "version_minor": 0
            },
            "text/plain": [
              "orignial dataset:   0%|          | 0/803 [00:00<?, ?it/s]"
            ]
          },
          "metadata": {},
          "output_type": "display_data"
        },
        {
          "data": {
            "application/vnd.jupyter.widget-view+json": {
              "model_id": "1eb92c44b3b24ac6b8fdf7407ddd33b9",
              "version_major": 2,
              "version_minor": 0
            },
            "text/plain": [
              "orignial dataset:   0%|          | 0/803 [00:00<?, ?it/s]"
            ]
          },
          "metadata": {},
          "output_type": "display_data"
        },
        {
          "data": {
            "application/vnd.jupyter.widget-view+json": {
              "model_id": "eed43b5c32004ef6a4f6f2ddd03222e9",
              "version_major": 2,
              "version_minor": 0
            },
            "text/plain": [
              "orignial dataset:   0%|          | 0/8039 [00:00<?, ?it/s]"
            ]
          },
          "metadata": {},
          "output_type": "display_data"
        },
        {
          "data": {
            "application/vnd.jupyter.widget-view+json": {
              "model_id": "ebec4bf96b5943858037601a98164b64",
              "version_major": 2,
              "version_minor": 0
            },
            "text/plain": [
              "orignial dataset:   0%|          | 0/803 [00:00<?, ?it/s]"
            ]
          },
          "metadata": {},
          "output_type": "display_data"
        },
        {
          "data": {
            "application/vnd.jupyter.widget-view+json": {
              "model_id": "06d743b93bc342eb8c9f779fe076cc91",
              "version_major": 2,
              "version_minor": 0
            },
            "text/plain": [
              "orignial dataset:   0%|          | 0/803 [00:00<?, ?it/s]"
            ]
          },
          "metadata": {},
          "output_type": "display_data"
        },
        {
          "data": {
            "application/vnd.jupyter.widget-view+json": {
              "model_id": "e270a07cd77e47e3a810d034eb66f22b",
              "version_major": 2,
              "version_minor": 0
            },
            "text/plain": [
              "orignial dataset:   0%|          | 0/803 [00:00<?, ?it/s]"
            ]
          },
          "metadata": {},
          "output_type": "display_data"
        },
        {
          "data": {
            "application/vnd.jupyter.widget-view+json": {
              "model_id": "3fcde668039e4f9ab026a17fafa18a35",
              "version_major": 2,
              "version_minor": 0
            },
            "text/plain": [
              "orignial dataset:   0%|          | 0/803 [00:00<?, ?it/s]"
            ]
          },
          "metadata": {},
          "output_type": "display_data"
        },
        {
          "data": {
            "application/vnd.jupyter.widget-view+json": {
              "model_id": "48b3b13d1fee40bf970cf6e406a5713e",
              "version_major": 2,
              "version_minor": 0
            },
            "text/plain": [
              "orignial dataset:   0%|          | 0/803 [00:00<?, ?it/s]"
            ]
          },
          "metadata": {},
          "output_type": "display_data"
        },
        {
          "data": {
            "application/vnd.jupyter.widget-view+json": {
              "model_id": "f6dc4a35d9c04356b06060eb5b5c8daf",
              "version_major": 2,
              "version_minor": 0
            },
            "text/plain": [
              "orignial dataset:   0%|          | 0/803 [00:00<?, ?it/s]"
            ]
          },
          "metadata": {},
          "output_type": "display_data"
        },
        {
          "data": {
            "application/vnd.jupyter.widget-view+json": {
              "model_id": "09cdd492b0524795a8ac24a40640c39b",
              "version_major": 2,
              "version_minor": 0
            },
            "text/plain": [
              "orignial dataset:   0%|          | 0/803 [00:00<?, ?it/s]"
            ]
          },
          "metadata": {},
          "output_type": "display_data"
        },
        {
          "data": {
            "application/vnd.jupyter.widget-view+json": {
              "model_id": "9517b465201745b7bf7fa5f06ee6995a",
              "version_major": 2,
              "version_minor": 0
            },
            "text/plain": [
              "orignial dataset:   0%|          | 0/803 [00:00<?, ?it/s]"
            ]
          },
          "metadata": {},
          "output_type": "display_data"
        },
        {
          "data": {
            "application/vnd.jupyter.widget-view+json": {
              "model_id": "cde7964d020c4747bb655fb236e4444d",
              "version_major": 2,
              "version_minor": 0
            },
            "text/plain": [
              "orignial dataset:   0%|          | 0/803 [00:00<?, ?it/s]"
            ]
          },
          "metadata": {},
          "output_type": "display_data"
        },
        {
          "data": {
            "application/vnd.jupyter.widget-view+json": {
              "model_id": "f383443481024bdab4e1cca7fd424149",
              "version_major": 2,
              "version_minor": 0
            },
            "text/plain": [
              "orignial dataset:   0%|          | 0/803 [00:00<?, ?it/s]"
            ]
          },
          "metadata": {},
          "output_type": "display_data"
        },
        {
          "data": {
            "application/vnd.jupyter.widget-view+json": {
              "model_id": "94c22146ec634ad2bea203a23e41688b",
              "version_major": 2,
              "version_minor": 0
            },
            "text/plain": [
              "orignial dataset:   0%|          | 0/8039 [00:00<?, ?it/s]"
            ]
          },
          "metadata": {},
          "output_type": "display_data"
        },
        {
          "data": {
            "application/vnd.jupyter.widget-view+json": {
              "model_id": "cf52643481d546498f6b7994639b6078",
              "version_major": 2,
              "version_minor": 0
            },
            "text/plain": [
              "orignial dataset:   0%|          | 0/803 [00:00<?, ?it/s]"
            ]
          },
          "metadata": {},
          "output_type": "display_data"
        },
        {
          "data": {
            "application/vnd.jupyter.widget-view+json": {
              "model_id": "c564d1b7d9144eb2b846f14015dc14e6",
              "version_major": 2,
              "version_minor": 0
            },
            "text/plain": [
              "orignial dataset:   0%|          | 0/803 [00:00<?, ?it/s]"
            ]
          },
          "metadata": {},
          "output_type": "display_data"
        },
        {
          "data": {
            "application/vnd.jupyter.widget-view+json": {
              "model_id": "321b7ff2b15a4086a9337fc4ed5b234e",
              "version_major": 2,
              "version_minor": 0
            },
            "text/plain": [
              "orignial dataset:   0%|          | 0/803 [00:00<?, ?it/s]"
            ]
          },
          "metadata": {},
          "output_type": "display_data"
        },
        {
          "data": {
            "application/vnd.jupyter.widget-view+json": {
              "model_id": "8ec0d2596bab4556bcede9eb132df41e",
              "version_major": 2,
              "version_minor": 0
            },
            "text/plain": [
              "orignial dataset:   0%|          | 0/803 [00:00<?, ?it/s]"
            ]
          },
          "metadata": {},
          "output_type": "display_data"
        },
        {
          "data": {
            "application/vnd.jupyter.widget-view+json": {
              "model_id": "ce7ce643c02a455cbcf32ac7a97075fc",
              "version_major": 2,
              "version_minor": 0
            },
            "text/plain": [
              "orignial dataset:   0%|          | 0/803 [00:00<?, ?it/s]"
            ]
          },
          "metadata": {},
          "output_type": "display_data"
        },
        {
          "data": {
            "application/vnd.jupyter.widget-view+json": {
              "model_id": "a98b364e21fd4d909ae4d4f3ffbb5996",
              "version_major": 2,
              "version_minor": 0
            },
            "text/plain": [
              "orignial dataset:   0%|          | 0/803 [00:00<?, ?it/s]"
            ]
          },
          "metadata": {},
          "output_type": "display_data"
        },
        {
          "data": {
            "application/vnd.jupyter.widget-view+json": {
              "model_id": "7819713873d64aa5989bd78686aac7e8",
              "version_major": 2,
              "version_minor": 0
            },
            "text/plain": [
              "orignial dataset:   0%|          | 0/803 [00:00<?, ?it/s]"
            ]
          },
          "metadata": {},
          "output_type": "display_data"
        },
        {
          "data": {
            "application/vnd.jupyter.widget-view+json": {
              "model_id": "dbf893e1480e4616bd6277eddc133bd7",
              "version_major": 2,
              "version_minor": 0
            },
            "text/plain": [
              "orignial dataset:   0%|          | 0/803 [00:00<?, ?it/s]"
            ]
          },
          "metadata": {},
          "output_type": "display_data"
        },
        {
          "data": {
            "application/vnd.jupyter.widget-view+json": {
              "model_id": "64189b7dcfbe46828a79fc92d8c094ca",
              "version_major": 2,
              "version_minor": 0
            },
            "text/plain": [
              "orignial dataset:   0%|          | 0/803 [00:00<?, ?it/s]"
            ]
          },
          "metadata": {},
          "output_type": "display_data"
        },
        {
          "data": {
            "application/vnd.jupyter.widget-view+json": {
              "model_id": "2cc6dc3a5121464a8da4abd5ab030a2c",
              "version_major": 2,
              "version_minor": 0
            },
            "text/plain": [
              "orignial dataset:   0%|          | 0/803 [00:00<?, ?it/s]"
            ]
          },
          "metadata": {},
          "output_type": "display_data"
        },
        {
          "data": {
            "application/vnd.jupyter.widget-view+json": {
              "model_id": "ce246615fa5548eb8820b3aef8f997cb",
              "version_major": 2,
              "version_minor": 0
            },
            "text/plain": [
              "orignial dataset:   0%|          | 0/8039 [00:00<?, ?it/s]"
            ]
          },
          "metadata": {},
          "output_type": "display_data"
        },
        {
          "data": {
            "application/vnd.jupyter.widget-view+json": {
              "model_id": "b98a06f621cd4a00bdb4ed3bd958db46",
              "version_major": 2,
              "version_minor": 0
            },
            "text/plain": [
              "orignial dataset:   0%|          | 0/803 [00:00<?, ?it/s]"
            ]
          },
          "metadata": {},
          "output_type": "display_data"
        },
        {
          "data": {
            "application/vnd.jupyter.widget-view+json": {
              "model_id": "36ef9d5644dd41bda2b9e5233851da83",
              "version_major": 2,
              "version_minor": 0
            },
            "text/plain": [
              "orignial dataset:   0%|          | 0/803 [00:00<?, ?it/s]"
            ]
          },
          "metadata": {},
          "output_type": "display_data"
        },
        {
          "data": {
            "application/vnd.jupyter.widget-view+json": {
              "model_id": "642fc9e30bbf4f24b9666b936ed63b97",
              "version_major": 2,
              "version_minor": 0
            },
            "text/plain": [
              "orignial dataset:   0%|          | 0/803 [00:00<?, ?it/s]"
            ]
          },
          "metadata": {},
          "output_type": "display_data"
        },
        {
          "data": {
            "application/vnd.jupyter.widget-view+json": {
              "model_id": "a4d5aabc29c44d36aa4505de9058665a",
              "version_major": 2,
              "version_minor": 0
            },
            "text/plain": [
              "orignial dataset:   0%|          | 0/803 [00:00<?, ?it/s]"
            ]
          },
          "metadata": {},
          "output_type": "display_data"
        },
        {
          "data": {
            "application/vnd.jupyter.widget-view+json": {
              "model_id": "f9d91e04e0c94dbc8db796191840b155",
              "version_major": 2,
              "version_minor": 0
            },
            "text/plain": [
              "orignial dataset:   0%|          | 0/803 [00:00<?, ?it/s]"
            ]
          },
          "metadata": {},
          "output_type": "display_data"
        },
        {
          "data": {
            "application/vnd.jupyter.widget-view+json": {
              "model_id": "7bab80d33484446094ef38da1a444dba",
              "version_major": 2,
              "version_minor": 0
            },
            "text/plain": [
              "orignial dataset:   0%|          | 0/803 [00:00<?, ?it/s]"
            ]
          },
          "metadata": {},
          "output_type": "display_data"
        },
        {
          "data": {
            "application/vnd.jupyter.widget-view+json": {
              "model_id": "60b65bdb775d4c74932a73f5cd87d80a",
              "version_major": 2,
              "version_minor": 0
            },
            "text/plain": [
              "orignial dataset:   0%|          | 0/803 [00:00<?, ?it/s]"
            ]
          },
          "metadata": {},
          "output_type": "display_data"
        },
        {
          "data": {
            "application/vnd.jupyter.widget-view+json": {
              "model_id": "c16d28e260f544d08c8f0f9d3519dc96",
              "version_major": 2,
              "version_minor": 0
            },
            "text/plain": [
              "orignial dataset:   0%|          | 0/803 [00:00<?, ?it/s]"
            ]
          },
          "metadata": {},
          "output_type": "display_data"
        },
        {
          "data": {
            "application/vnd.jupyter.widget-view+json": {
              "model_id": "08873bb418774867a016d2e315152d56",
              "version_major": 2,
              "version_minor": 0
            },
            "text/plain": [
              "orignial dataset:   0%|          | 0/803 [00:00<?, ?it/s]"
            ]
          },
          "metadata": {},
          "output_type": "display_data"
        },
        {
          "data": {
            "application/vnd.jupyter.widget-view+json": {
              "model_id": "1012fbd1f7784c2592301ada8fdde2ba",
              "version_major": 2,
              "version_minor": 0
            },
            "text/plain": [
              "orignial dataset:   0%|          | 0/8039 [00:00<?, ?it/s]"
            ]
          },
          "metadata": {},
          "output_type": "display_data"
        },
        {
          "data": {
            "application/vnd.jupyter.widget-view+json": {
              "model_id": "46521c18688443a89489073fb9ddcfb4",
              "version_major": 2,
              "version_minor": 0
            },
            "text/plain": [
              "orignial dataset:   0%|          | 0/803 [00:00<?, ?it/s]"
            ]
          },
          "metadata": {},
          "output_type": "display_data"
        },
        {
          "data": {
            "application/vnd.jupyter.widget-view+json": {
              "model_id": "002a1b424c6e4e3bb39d021c7397ae32",
              "version_major": 2,
              "version_minor": 0
            },
            "text/plain": [
              "orignial dataset:   0%|          | 0/803 [00:00<?, ?it/s]"
            ]
          },
          "metadata": {},
          "output_type": "display_data"
        },
        {
          "data": {
            "application/vnd.jupyter.widget-view+json": {
              "model_id": "62d2626b661f478bb221a6f7466345cb",
              "version_major": 2,
              "version_minor": 0
            },
            "text/plain": [
              "orignial dataset:   0%|          | 0/803 [00:00<?, ?it/s]"
            ]
          },
          "metadata": {},
          "output_type": "display_data"
        },
        {
          "data": {
            "application/vnd.jupyter.widget-view+json": {
              "model_id": "cd2cc27048364b4587ad727488be63a4",
              "version_major": 2,
              "version_minor": 0
            },
            "text/plain": [
              "orignial dataset:   0%|          | 0/803 [00:00<?, ?it/s]"
            ]
          },
          "metadata": {},
          "output_type": "display_data"
        },
        {
          "data": {
            "application/vnd.jupyter.widget-view+json": {
              "model_id": "cdd21a3850db4f42aef93fa6b862aa6a",
              "version_major": 2,
              "version_minor": 0
            },
            "text/plain": [
              "orignial dataset:   0%|          | 0/803 [00:00<?, ?it/s]"
            ]
          },
          "metadata": {},
          "output_type": "display_data"
        },
        {
          "data": {
            "application/vnd.jupyter.widget-view+json": {
              "model_id": "96da9ed42ab14937bdc87b3a34ef0228",
              "version_major": 2,
              "version_minor": 0
            },
            "text/plain": [
              "orignial dataset:   0%|          | 0/803 [00:00<?, ?it/s]"
            ]
          },
          "metadata": {},
          "output_type": "display_data"
        },
        {
          "data": {
            "application/vnd.jupyter.widget-view+json": {
              "model_id": "0926468030cf43059a1aa4398827dbf8",
              "version_major": 2,
              "version_minor": 0
            },
            "text/plain": [
              "orignial dataset:   0%|          | 0/803 [00:00<?, ?it/s]"
            ]
          },
          "metadata": {},
          "output_type": "display_data"
        },
        {
          "data": {
            "application/vnd.jupyter.widget-view+json": {
              "model_id": "580216c07b0c4309857f0b303fe063d7",
              "version_major": 2,
              "version_minor": 0
            },
            "text/plain": [
              "orignial dataset:   0%|          | 0/803 [00:00<?, ?it/s]"
            ]
          },
          "metadata": {},
          "output_type": "display_data"
        },
        {
          "data": {
            "application/vnd.jupyter.widget-view+json": {
              "model_id": "ded1b130f6884f0490fc2073c3268ff2",
              "version_major": 2,
              "version_minor": 0
            },
            "text/plain": [
              "orignial dataset:   0%|          | 0/803 [00:00<?, ?it/s]"
            ]
          },
          "metadata": {},
          "output_type": "display_data"
        },
        {
          "data": {
            "application/vnd.jupyter.widget-view+json": {
              "model_id": "e30daec8c6934e53ac6df58ee3bb6392",
              "version_major": 2,
              "version_minor": 0
            },
            "text/plain": [
              "orignial dataset:   0%|          | 0/803 [00:00<?, ?it/s]"
            ]
          },
          "metadata": {},
          "output_type": "display_data"
        },
        {
          "data": {
            "application/vnd.jupyter.widget-view+json": {
              "model_id": "b87a0904c61147b9b2edead8d48b7568",
              "version_major": 2,
              "version_minor": 0
            },
            "text/plain": [
              "orignial dataset:   0%|          | 0/8039 [00:00<?, ?it/s]"
            ]
          },
          "metadata": {},
          "output_type": "display_data"
        },
        {
          "data": {
            "application/vnd.jupyter.widget-view+json": {
              "model_id": "912318cdc06942f995f4a4fb5ae63eb0",
              "version_major": 2,
              "version_minor": 0
            },
            "text/plain": [
              "orignial dataset:   0%|          | 0/803 [00:00<?, ?it/s]"
            ]
          },
          "metadata": {},
          "output_type": "display_data"
        },
        {
          "data": {
            "application/vnd.jupyter.widget-view+json": {
              "model_id": "2f3de04cdf0244c8bdc55edba2117fd4",
              "version_major": 2,
              "version_minor": 0
            },
            "text/plain": [
              "orignial dataset:   0%|          | 0/803 [00:00<?, ?it/s]"
            ]
          },
          "metadata": {},
          "output_type": "display_data"
        },
        {
          "data": {
            "application/vnd.jupyter.widget-view+json": {
              "model_id": "7c38e685de104cad9c02c24eafa7538c",
              "version_major": 2,
              "version_minor": 0
            },
            "text/plain": [
              "orignial dataset:   0%|          | 0/803 [00:00<?, ?it/s]"
            ]
          },
          "metadata": {},
          "output_type": "display_data"
        },
        {
          "data": {
            "application/vnd.jupyter.widget-view+json": {
              "model_id": "9a9b3a3987f8480fb5bbc420901c6a0b",
              "version_major": 2,
              "version_minor": 0
            },
            "text/plain": [
              "orignial dataset:   0%|          | 0/803 [00:00<?, ?it/s]"
            ]
          },
          "metadata": {},
          "output_type": "display_data"
        },
        {
          "data": {
            "application/vnd.jupyter.widget-view+json": {
              "model_id": "97363fd0f8744c8d88a5ce3725eb41e3",
              "version_major": 2,
              "version_minor": 0
            },
            "text/plain": [
              "orignial dataset:   0%|          | 0/803 [00:00<?, ?it/s]"
            ]
          },
          "metadata": {},
          "output_type": "display_data"
        },
        {
          "data": {
            "application/vnd.jupyter.widget-view+json": {
              "model_id": "56db1108f57d40fb9c3a904bcd2c81ce",
              "version_major": 2,
              "version_minor": 0
            },
            "text/plain": [
              "orignial dataset:   0%|          | 0/803 [00:00<?, ?it/s]"
            ]
          },
          "metadata": {},
          "output_type": "display_data"
        },
        {
          "data": {
            "application/vnd.jupyter.widget-view+json": {
              "model_id": "dbe3e8c8aefe46a986874fb733f3f888",
              "version_major": 2,
              "version_minor": 0
            },
            "text/plain": [
              "orignial dataset:   0%|          | 0/803 [00:00<?, ?it/s]"
            ]
          },
          "metadata": {},
          "output_type": "display_data"
        },
        {
          "data": {
            "application/vnd.jupyter.widget-view+json": {
              "model_id": "4350cb63fb464b8d9443f53d18edc010",
              "version_major": 2,
              "version_minor": 0
            },
            "text/plain": [
              "orignial dataset:   0%|          | 0/803 [00:00<?, ?it/s]"
            ]
          },
          "metadata": {},
          "output_type": "display_data"
        },
        {
          "data": {
            "application/vnd.jupyter.widget-view+json": {
              "model_id": "9523be482fb74ff080d96148581ae6a9",
              "version_major": 2,
              "version_minor": 0
            },
            "text/plain": [
              "orignial dataset:   0%|          | 0/803 [00:00<?, ?it/s]"
            ]
          },
          "metadata": {},
          "output_type": "display_data"
        },
        {
          "data": {
            "application/vnd.jupyter.widget-view+json": {
              "model_id": "55917399e8bd4b2590d1d5d2d3f2a824",
              "version_major": 2,
              "version_minor": 0
            },
            "text/plain": [
              "orignial dataset:   0%|          | 0/803 [00:00<?, ?it/s]"
            ]
          },
          "metadata": {},
          "output_type": "display_data"
        },
        {
          "data": {
            "application/vnd.jupyter.widget-view+json": {
              "model_id": "70f9e1b998e040bdb1f54ede83b8ae26",
              "version_major": 2,
              "version_minor": 0
            },
            "text/plain": [
              "orignial dataset:   0%|          | 0/8039 [00:00<?, ?it/s]"
            ]
          },
          "metadata": {},
          "output_type": "display_data"
        },
        {
          "data": {
            "application/vnd.jupyter.widget-view+json": {
              "model_id": "a4da26718f954f579433e466c5ef683e",
              "version_major": 2,
              "version_minor": 0
            },
            "text/plain": [
              "orignial dataset:   0%|          | 0/803 [00:00<?, ?it/s]"
            ]
          },
          "metadata": {},
          "output_type": "display_data"
        },
        {
          "data": {
            "application/vnd.jupyter.widget-view+json": {
              "model_id": "4fa9a8d9582344ceac84bb93ba6553e7",
              "version_major": 2,
              "version_minor": 0
            },
            "text/plain": [
              "orignial dataset:   0%|          | 0/803 [00:00<?, ?it/s]"
            ]
          },
          "metadata": {},
          "output_type": "display_data"
        },
        {
          "data": {
            "application/vnd.jupyter.widget-view+json": {
              "model_id": "9ab68da488cf468996f17edf110961cc",
              "version_major": 2,
              "version_minor": 0
            },
            "text/plain": [
              "orignial dataset:   0%|          | 0/803 [00:00<?, ?it/s]"
            ]
          },
          "metadata": {},
          "output_type": "display_data"
        },
        {
          "data": {
            "application/vnd.jupyter.widget-view+json": {
              "model_id": "b13933c2899f45df876c64df2af46acf",
              "version_major": 2,
              "version_minor": 0
            },
            "text/plain": [
              "orignial dataset:   0%|          | 0/803 [00:00<?, ?it/s]"
            ]
          },
          "metadata": {},
          "output_type": "display_data"
        },
        {
          "data": {
            "application/vnd.jupyter.widget-view+json": {
              "model_id": "fcaac02e63854709b5186ba52db393f3",
              "version_major": 2,
              "version_minor": 0
            },
            "text/plain": [
              "orignial dataset:   0%|          | 0/803 [00:00<?, ?it/s]"
            ]
          },
          "metadata": {},
          "output_type": "display_data"
        },
        {
          "data": {
            "application/vnd.jupyter.widget-view+json": {
              "model_id": "4da819e7035e48b9a71180cba4daa0e1",
              "version_major": 2,
              "version_minor": 0
            },
            "text/plain": [
              "orignial dataset:   0%|          | 0/803 [00:00<?, ?it/s]"
            ]
          },
          "metadata": {},
          "output_type": "display_data"
        },
        {
          "data": {
            "application/vnd.jupyter.widget-view+json": {
              "model_id": "fd05ca437efa47529742f23b7874160e",
              "version_major": 2,
              "version_minor": 0
            },
            "text/plain": [
              "orignial dataset:   0%|          | 0/803 [00:00<?, ?it/s]"
            ]
          },
          "metadata": {},
          "output_type": "display_data"
        },
        {
          "data": {
            "application/vnd.jupyter.widget-view+json": {
              "model_id": "8c1202685eca44908fc66ab29a16bba5",
              "version_major": 2,
              "version_minor": 0
            },
            "text/plain": [
              "orignial dataset:   0%|          | 0/803 [00:00<?, ?it/s]"
            ]
          },
          "metadata": {},
          "output_type": "display_data"
        },
        {
          "data": {
            "application/vnd.jupyter.widget-view+json": {
              "model_id": "9e6589b4c48447b981fff1953d0def37",
              "version_major": 2,
              "version_minor": 0
            },
            "text/plain": [
              "orignial dataset:   0%|          | 0/803 [00:00<?, ?it/s]"
            ]
          },
          "metadata": {},
          "output_type": "display_data"
        },
        {
          "data": {
            "application/vnd.jupyter.widget-view+json": {
              "model_id": "6ccfcf9583134a48b7c2b3defb16e8ae",
              "version_major": 2,
              "version_minor": 0
            },
            "text/plain": [
              "orignial dataset:   0%|          | 0/803 [00:00<?, ?it/s]"
            ]
          },
          "metadata": {},
          "output_type": "display_data"
        },
        {
          "data": {
            "application/vnd.jupyter.widget-view+json": {
              "model_id": "4bf3763132e6498ab1ed268083cdb640",
              "version_major": 2,
              "version_minor": 0
            },
            "text/plain": [
              "orignial dataset:   0%|          | 0/803 [00:00<?, ?it/s]"
            ]
          },
          "metadata": {},
          "output_type": "display_data"
        },
        {
          "data": {
            "application/vnd.jupyter.widget-view+json": {
              "model_id": "ed507b51996747ceb600c7b5973e8856",
              "version_major": 2,
              "version_minor": 0
            },
            "text/plain": [
              "orignial dataset:   0%|          | 0/803 [00:00<?, ?it/s]"
            ]
          },
          "metadata": {},
          "output_type": "display_data"
        },
        {
          "data": {
            "application/vnd.jupyter.widget-view+json": {
              "model_id": "33faf45d35ac4d6c80dbae285ebdb842",
              "version_major": 2,
              "version_minor": 0
            },
            "text/plain": [
              "orignial dataset:   0%|          | 0/803 [00:00<?, ?it/s]"
            ]
          },
          "metadata": {},
          "output_type": "display_data"
        },
        {
          "data": {
            "application/vnd.jupyter.widget-view+json": {
              "model_id": "74251d67999e4124bf658dc7fb84b3e5",
              "version_major": 2,
              "version_minor": 0
            },
            "text/plain": [
              "orignial dataset:   0%|          | 0/803 [00:00<?, ?it/s]"
            ]
          },
          "metadata": {},
          "output_type": "display_data"
        }
      ],
      "source": [
        "df_fus_ven_nor_old = df_mitbih[df_mitbih['label'].str.contains(r\"Fusion of ventricular and normal\")].copy(deep=True)\n",
        "df_fus_ven_nor = create_empty_dataframe(df_fus_ven_nor_old)\n",
        "\n",
        "df_fus_pac_nor_old = df_mitbih[df_mitbih['label'].str.contains(r\"Fusion of paced and normal\")].copy(deep=True)\n",
        "df_fus_pac_nor =  create_empty_dataframe(df_fus_pac_nor_old)\n",
        "\n",
        "thread_fus_ven_nor = threading.Thread(target=fill_empty_with_synthetic_data, args=(df_fus_ven_nor_old, df_fus_ven_nor))\n",
        "thread_fus_pac_nor = threading.Thread(target=fill_empty_with_synthetic_data, args=(df_fus_pac_nor_old, df_fus_pac_nor))\n",
        "\n",
        "thread_fus_ven_nor.start()\n",
        "thread_fus_pac_nor.start()\n",
        "\n",
        "thread_fus_ven_nor.join()\n",
        "thread_fus_pac_nor.join()"
      ]
    },
    {
      "cell_type": "code",
      "execution_count": null,
      "id": "abc39f54",
      "metadata": {
        "id": "abc39f54",
        "outputId": "e8b3cfab-b3ef-4641-c462-9d45a0103f99"
      },
      "outputs": [
        {
          "name": "stdout",
          "output_type": "stream",
          "text": [
            "100001\n",
            "100001\n"
          ]
        }
      ],
      "source": [
        "df_fus_ven_nor_f = pd.concat([df_fus_ven_nor_old, df_fus_ven_nor], axis=0)\n",
        "print(len(df_fus_ven_nor_f))\n",
        "df_fus_ven_nor_f.to_csv('fus_ven_nor.csv', index=False)\n",
        "\n",
        "df_fus_pac_nor_f = pd.concat([df_fus_pac_nor_old, df_fus_pac_nor], axis=0)\n",
        "print(len(df_fus_pac_nor_f))\n",
        "df_fus_pac_nor_f.to_csv('fus_pac_nor.csv', index=False)"
      ]
    },
    {
      "cell_type": "code",
      "execution_count": null,
      "id": "c145a908",
      "metadata": {
        "id": "c145a908"
      },
      "outputs": [],
      "source": []
    }
  ],
  "metadata": {
    "kernelspec": {
      "display_name": "Python 3 (ipykernel)",
      "language": "python",
      "name": "python3"
    },
    "language_info": {
      "codemirror_mode": {
        "name": "ipython",
        "version": 3
      },
      "file_extension": ".py",
      "mimetype": "text/x-python",
      "name": "python",
      "nbconvert_exporter": "python",
      "pygments_lexer": "ipython3",
      "version": "3.11.5"
    },
    "colab": {
      "provenance": []
    }
  },
  "nbformat": 4,
  "nbformat_minor": 5
}